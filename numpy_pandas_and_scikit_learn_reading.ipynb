{
    "cells": [
        {
            "cell_type": "markdown",
            "metadata": {},
            "source": [
                "# Python libraries for data analysis"
            ]
        },
        {
            "cell_type": "markdown",
            "metadata": {},
            "source": [
                "Whenever we use a particular library, we first have to import the modules:"
            ]
        },
        {
            "cell_type": "code",
            "execution_count": 1,
            "metadata": {
                "collapsed": true
            },
            "outputs": [],
            "source": [
                "import numpy as np\n",
                "import pandas as pd\n",
                "import sklearn"
            ]
        },
        {
            "cell_type": "markdown",
            "metadata": {},
            "source": [
                "Notice how we can rename the modules we import. This is especially handy for longer names. You can also import pieces of a module:"
            ]
        },
        {
            "cell_type": "code",
            "execution_count": 2,
            "metadata": {},
            "outputs": [
                {
                    "name": "stdout",
                    "output_type": "stream",
                    "text": [
                        "3.141592653589793\n"
                    ]
                }
            ],
            "source": [
                "from math import pi\n",
                "print(pi)"
            ]
        },
        {
            "cell_type": "markdown",
            "metadata": {},
            "source": [
                "In this case, we imported a fixed value. We can also import functions, etc."
            ]
        },
        {
            "cell_type": "markdown",
            "metadata": {},
            "source": [
                "## NumPy"
            ]
        },
        {
            "cell_type": "markdown",
            "metadata": {},
            "source": [
                "NumPy can be used for many different things, most notably for manipulating arrays."
            ]
        },
        {
            "cell_type": "code",
            "execution_count": 3,
            "metadata": {},
            "outputs": [
                {
                    "name": "stdout",
                    "output_type": "stream",
                    "text": [
                        "Empty array: \n",
                        " [0. 0. 0. 0. 0.]\n",
                        "Empty matrix: \n",
                        " [[0. 0.]\n",
                        " [0. 0.]\n",
                        " [0. 0.]\n",
                        " [0. 0.]\n",
                        " [0. 0.]]\n"
                    ]
                }
            ],
            "source": [
                "# Create empty arrays\/matrices\n",
                "empty_array = np.zeros(5)\n",
                "\n",
                "empty_matrix = np.zeros((5,2))\n",
                "\n",
                "print('Empty array: \\n',empty_array)\n",
                "print('Empty matrix: \\n',empty_matrix)"
            ]
        },
        {
            "cell_type": "code",
            "execution_count": 4,
            "metadata": {},
            "outputs": [
                {
                    "name": "stdout",
                    "output_type": "stream",
                    "text": [
                        "Matrix: \n",
                        " [[1 2 3]\n",
                        " [4 5 6]]\n",
                        "Transpose: \n",
                        " [[1 4]\n",
                        " [2 5]\n",
                        " [3 6]]\n",
                        "Item 2,2:  5\n",
                        "Item 2,3:  6\n",
                        "#rows and #columns:  (2, 3)\n",
                        "Sum total matrix:  21\n",
                        "Sum row 1:  6\n",
                        "Sum row 2:  15\n",
                        "Sum column 3:  9\n"
                    ]
                }
            ],
            "source": [
                "# Create matrices\n",
                "mat = np.array([[1,2,3],[4,5,6]])\n",
                "print('Matrix: \\n',mat)\n",
                "print('Transpose: \\n',mat.T)\n",
                "print('Item 2,2: ',mat[1,1])\n",
                "print('Item 2,3: ',mat[1,2])\n",
                "print('#rows and #columns: ',np.shape(mat))\n",
                "print('Sum total matrix: ',np.sum(mat))\n",
                "print('Sum row 1: ',np.sum(mat[0]))\n",
                "print('Sum row 2: ',np.sum(mat[1]))\n",
                "print('Sum column 3: ',np.sum(mat,axis=0)[2])"
            ]
        },
        {
            "cell_type": "markdown",
            "metadata": {},
            "source": [
                "## pandas"
            ]
        },
        {
            "cell_type": "markdown",
            "metadata": {},
            "source": [
                "pandas is great for reading and creating datasets, as well as performing basic operations on them."
            ]
        },
        {
            "cell_type": "code",
            "execution_count": 5,
            "metadata": {},
            "outputs": [
                {
                    "name": "stdout",
                    "output_type": "stream",
                    "text": [
                        "          0   1\n",
                        "0  johannes  10\n",
                        "1  giovanni   2\n",
                        "2      john   3\n"
                    ]
                }
            ],
            "source": [
                "# Creating a matrix with three rows of data\n",
                "data = [['johannes',10],['giovanni',2],['john',3]]\n",
                "\n",
                "# Creating and printing a pandas DataFrame object from the matrix\n",
                "df = pd.DataFrame(data)\n",
                "print(df)"
            ]
        },
        {
            "cell_type": "code",
            "execution_count": 6,
            "metadata": {},
            "outputs": [
                {
                    "name": "stdout",
                    "output_type": "stream",
                    "text": [
                        "      names  years\n",
                        "0  johannes     10\n",
                        "1  giovanni      2\n",
                        "2      john      3\n"
                    ]
                }
            ],
            "source": [
                "# Adding columns to the DataFrame object\n",
                "df.columns = ['names','years']\n",
                "print(df)"
            ]
        },
        {
            "cell_type": "code",
            "execution_count": 7,
            "metadata": {},
            "outputs": [
                {
                    "name": "stdout",
                    "output_type": "stream",
                    "text": [
                        "0    10\n",
                        "1     2\n",
                        "2     3\n",
                        "Name: years, dtype: int64\n",
                        "Sum of all values in column:  15\n"
                    ]
                }
            ],
            "source": [
                "# Taking out a single column and calculating its sum\n",
                "# This also shows the type of the variable: a 64bit integer (array)\n",
                "print(df['years'])\n",
                "print('Sum of all values in column: ',df['years'].sum())"
            ]
        },
        {
            "cell_type": "code",
            "execution_count": 8,
            "metadata": {},
            "outputs": [
                {
                    "name": "stdout",
                    "output_type": "stream",
                    "text": [
                        "      names  years\n",
                        "0  johannes     10\n",
                        "1  giovanni      2\n",
                        "2      john      3\n",
                        "3  giovanni      2\n",
                        "4      john      3\n",
                        "\n",
                        "\n",
                        "      names  years\n",
                        "5  giovanni      2\n",
                        "6      john      3\n",
                        "7  giovanni      2\n",
                        "8      john      3\n",
                        "9  johannes     10\n"
                    ]
                }
            ],
            "source": [
                "# Creating a larger matrix\n",
                "data = [['johannes',10],['giovanni',2],['john',3],['giovanni',2],['john',3],['giovanni',2],['john',3],['giovanni',2],['john',3],['johannes',10]]\n",
                "\n",
                "# Again, creating a DataFrame object, now with columns\n",
                "df = pd.DataFrame(data, columns = ['names','years'])\n",
                "\n",
                "# Print the 5 first (head) and 5 last (tail) observations\n",
                "print(df.head())\n",
                "print('\\n')\n",
                "print(df.tail())"
            ]
        },
        {
            "cell_type": "code",
            "execution_count": 9,
            "metadata": {},
            "outputs": [
                {
                    "name": "stdout",
                    "output_type": "stream",
                    "text": [
                        "['johannes' 'giovanni' 'john']\n"
                    ]
                }
            ],
            "source": [
                "# Print all unique values of the column names\n",
                "print(df['names'].unique())"
            ]
        },
        {
            "cell_type": "code",
            "execution_count": 10,
            "metadata": {},
            "outputs": [
                {
                    "name": "stdout",
                    "output_type": "stream",
                    "text": [
                        "      names  years  code\n",
                        "0  johannes     10   0.0\n",
                        "1  giovanni      2   0.0\n",
                        "2      john      3   0.0\n",
                        "3  giovanni      2   0.0\n",
                        "4      john      3   0.0\n",
                        "5  giovanni      2   0.0\n",
                        "6      john      3   0.0\n",
                        "7  giovanni      2   0.0\n",
                        "8      john      3   0.0\n",
                        "9  johannes     10   0.0\n"
                    ]
                }
            ],
            "source": [
                "# Add a column names 'code' with all zeros\n",
                "df['code'] = np.zeros(10)\n",
                "print(df)"
            ]
        },
        {
            "cell_type": "markdown",
            "metadata": {},
            "source": [
                "You can also easily find things in a DataFrame use ```.loc```:"
            ]
        },
        {
            "cell_type": "code",
            "execution_count": 11,
            "metadata": {},
            "outputs": [
                {
                    "name": "stdout",
                    "output_type": "stream",
                    "text": [
                        "      names  years  code\n",
                        "2      john      3   0.0\n",
                        "3  giovanni      2   0.0\n",
                        "4      john      3   0.0\n",
                        "5  giovanni      2   0.0\n"
                    ]
                }
            ],
            "source": [
                "# Rows 2 to 5 and all columns:\n",
                "print(df.loc[2:5, :])"
            ]
        },
        {
            "cell_type": "code",
            "execution_count": 12,
            "metadata": {},
            "outputs": [
                {
                    "name": "stdout",
                    "output_type": "stream",
                    "text": [
                        "   years  code\n",
                        "2      3   0.0\n",
                        "3      2   0.0\n",
                        "4      3   0.0\n"
                    ]
                }
            ],
            "source": [
                "# Rows 2 to 4 and columns selected by name:\n",
                "print(df.loc[2:4, ('years', 'code')])"
            ]
        },
        {
            "cell_type": "code",
            "execution_count": 13,
            "metadata": {},
            "outputs": [
                {
                    "name": "stdout",
                    "output_type": "stream",
                    "text": [
                        "john        4\n",
                        "giovanni    4\n",
                        "johannes    2\n",
                        "Name: names, dtype: int64\n"
                    ]
                }
            ],
            "source": [
                "# You can get a histogram of particular values in a column:\n",
                "print(df['names'].value_counts())"
            ]
        },
        {
            "cell_type": "markdown",
            "metadata": {},
            "source": [
                "## scikit-learn"
            ]
        },
        {
            "cell_type": "markdown",
            "metadata": {},
            "source": [
                "scikit-learn is great for performing all major data analysis operations. It also contains datasets. In this code, we will load a dataset and fit a simple linear regression (more details on that model later)."
            ]
        },
        {
            "cell_type": "code",
            "execution_count": 14,
            "metadata": {},
            "outputs": [
                {
                    "name": "stdout",
                    "output_type": "stream",
                    "text": [
                        "dict_keys(['data', 'target', 'feature_names', 'DESCR', 'filename'])\n"
                    ]
                }
            ],
            "source": [
                "from sklearn import datasets as ds\n",
                "\n",
                "# Load the Boston Housing dataset\n",
                "dataset = ds.load_boston()\n",
                "\n",
                "# It is a dictionary, see the keys for details:\n",
                "print(dataset.keys())"
            ]
        },
        {
            "cell_type": "code",
            "execution_count": 15,
            "metadata": {},
            "outputs": [
                {
                    "name": "stdout",
                    "output_type": "stream",
                    "text": [
                        ".. _boston_dataset:\n",
                        "\n",
                        "Boston house prices dataset\n",
                        "---------------------------\n",
                        "\n",
                        "**Data Set Characteristics:**  \n",
                        "\n",
                        "    :Number of Instances: 506 \n",
                        "\n",
                        "    :Number of Attributes: 13 numeric\/categorical predictive. Median Value (attribute 14) is usually the target.\n",
                        "\n",
                        "    :Attribute Information (in order):\n",
                        "        - CRIM     per capita crime rate by town\n",
                        "        - ZN       proportion of residential land zoned for lots over 25,000 sq.ft.\n",
                        "        - INDUS    proportion of non-retail business acres per town\n",
                        "        - CHAS     Charles River dummy variable (= 1 if tract bounds river; 0 otherwise)\n",
                        "        - NOX      nitric oxides concentration (parts per 10 million)\n",
                        "        - RM       average number of rooms per dwelling\n",
                        "        - AGE      proportion of owner-occupied units built prior to 1940\n",
                        "        - DIS      weighted distances to five Boston employment centres\n",
                        "        - RAD      index of accessibility to radial highways\n",
                        "        - TAX      full-value property-tax rate per $10,000\n",
                        "        - PTRATIO  pupil-teacher ratio by town\n",
                        "        - B        1000(Bk - 0.63)^2 where Bk is the proportion of blacks by town\n",
                        "        - LSTAT    % lower status of the population\n",
                        "        - MEDV     Median value of owner-occupied homes in $1000's\n",
                        "\n",
                        "    :Missing Attribute Values: None\n",
                        "\n",
                        "    :Creator: Harrison, D. and Rubinfeld, D.L.\n",
                        "\n",
                        "This is a copy of UCI ML housing dataset.\n",
                        "https:\/\/archive.ics.uci.edu\/ml\/machine-learning-databases\/housing\/\n",
                        "\n",
                        "\n",
                        "This dataset was taken from the StatLib library which is maintained at Carnegie Mellon University.\n",
                        "\n",
                        "The Boston house-price data of Harrison, D. and Rubinfeld, D.L. 'Hedonic\n",
                        "prices and the demand for clean air', J. Environ. Economics & Management,\n",
                        "vol.5, 81-102, 1978.   Used in Belsley, Kuh & Welsch, 'Regression diagnostics\n",
                        "...', Wiley, 1980.   N.B. Various transformations are used in the table on\n",
                        "pages 244-261 of the latter.\n",
                        "\n",
                        "The Boston house-price data has been used in many machine learning papers that address regression\n",
                        "problems.   \n",
                        "     \n",
                        ".. topic:: References\n",
                        "\n",
                        "   - Belsley, Kuh & Welsch, 'Regression diagnostics: Identifying Influential Data and Sources of Collinearity', Wiley, 1980. 244-261.\n",
                        "   - Quinlan,R. (1993). Combining Instance-Based and Model-Based Learning. In Proceedings on the Tenth International Conference of Machine Learning, 236-243, University of Massachusetts, Amherst. Morgan Kaufmann.\n",
                        "\n"
                    ]
                }
            ],
            "source": [
                "# The 'DESCR' key holds a description text for the whole dataset\n",
                "print(dataset['DESCR'])"
            ]
        },
        {
            "cell_type": "code",
            "execution_count": 16,
            "metadata": {},
            "outputs": [
                {
                    "name": "stdout",
                    "output_type": "stream",
                    "text": [
                        "      CRIM    ZN  INDUS  CHAS    NOX     RM   AGE     DIS  RAD    TAX  \\\n",
                        "0  0.00632  18.0   2.31   0.0  0.538  6.575  65.2  4.0900  1.0  296.0   \n",
                        "1  0.02731   0.0   7.07   0.0  0.469  6.421  78.9  4.9671  2.0  242.0   \n",
                        "2  0.02729   0.0   7.07   0.0  0.469  7.185  61.1  4.9671  2.0  242.0   \n",
                        "3  0.03237   0.0   2.18   0.0  0.458  6.998  45.8  6.0622  3.0  222.0   \n",
                        "4  0.06905   0.0   2.18   0.0  0.458  7.147  54.2  6.0622  3.0  222.0   \n",
                        "\n",
                        "   PTRATIO       B  LSTAT  \n",
                        "0     15.3  396.90   4.98  \n",
                        "1     17.8  396.90   9.14  \n",
                        "2     17.8  392.83   4.03  \n",
                        "3     18.7  394.63   2.94  \n",
                        "4     18.7  396.90   5.33  \n"
                    ]
                }
            ],
            "source": [
                "# The data (independent variables) are stored under the 'data' key\n",
                "# The names of the independent variables are stored in the 'feature_names' key\n",
                "# Let's use them to create a DataFrame object:\n",
                "df = pd.DataFrame(data=dataset['data'], columns=dataset['feature_names'])\n",
                "print(df.head())"
            ]
        },
        {
            "cell_type": "code",
            "execution_count": 17,
            "metadata": {},
            "outputs": [
                {
                    "name": "stdout",
                    "output_type": "stream",
                    "text": [
                        "   target\n",
                        "0    24.0\n",
                        "1    21.6\n",
                        "2    34.7\n",
                        "3    33.4\n",
                        "4    36.2\n"
                    ]
                }
            ],
            "source": [
                "# The dependent variable is stored separately\n",
                "df_y = pd.DataFrame(data=dataset['target'], columns=['target'])\n",
                "print(df_y.head())"
            ]
        },
        {
            "cell_type": "code",
            "execution_count": 18,
            "metadata": {},
            "outputs": [
                {
                    "name": "stdout",
                    "output_type": "stream",
                    "text": [
                        "0.7406426641094095\n"
                    ]
                }
            ],
            "source": [
                "# Now, let's build a linear regression model\n",
                "from sklearn.linear_model import LinearRegression as LR\n",
                "\n",
                "# First we create a linear regression object\n",
                "regression = LR()\n",
                "\n",
                "# Then, we fit the independent and dependent data\n",
                "regression.fit(df, df_y)\n",
                "\n",
                "# We can obtain the R^2 score (more on this later)\n",
                "print(regression.score(df, df_y))"
            ]
        },
        {
            "cell_type": "markdown",
            "metadata": {},
            "source": [
                "Very often, we need to perform an operation on a single observation. In that case, we have to reshape the data using numpy:"
            ]
        },
        {
            "cell_type": "code",
            "execution_count": 19,
            "metadata": {},
            "outputs": [
                {
                    "name": "stdout",
                    "output_type": "stream",
                    "text": [
                        "CRIM         0.02729\n",
                        "ZN           0.00000\n",
                        "INDUS        7.07000\n",
                        "CHAS         0.00000\n",
                        "NOX          0.46900\n",
                        "RM           7.18500\n",
                        "AGE         61.10000\n",
                        "DIS          4.96710\n",
                        "RAD          2.00000\n",
                        "TAX        242.00000\n",
                        "PTRATIO     17.80000\n",
                        "B          392.83000\n",
                        "LSTAT        4.03000\n",
                        "Name: 2, dtype: float64\n"
                    ]
                }
            ],
            "source": [
                "# Consider a single observation \n",
                "so = df.loc[2, :]\n",
                "print(so)"
            ]
        },
        {
            "cell_type": "code",
            "execution_count": 20,
            "metadata": {},
            "outputs": [
                {
                    "name": "stdout",
                    "output_type": "stream",
                    "text": [
                        "[2.7290e-02 0.0000e+00 7.0700e+00 0.0000e+00 4.6900e-01 7.1850e+00\n",
                        " 6.1100e+01 4.9671e+00 2.0000e+00 2.4200e+02 1.7800e+01 3.9283e+02\n",
                        " 4.0300e+00]\n"
                    ]
                }
            ],
            "source": [
                "# Just the values of the observation without meta data\n",
                "print(so.values)"
            ]
        },
        {
            "cell_type": "code",
            "execution_count": 21,
            "metadata": {},
            "outputs": [
                {
                    "name": "stdout",
                    "output_type": "stream",
                    "text": [
                        "[[2.7290e-02 0.0000e+00 7.0700e+00 0.0000e+00 4.6900e-01 7.1850e+00\n",
                        "  6.1100e+01 4.9671e+00 2.0000e+00 2.4200e+02 1.7800e+01 3.9283e+02\n",
                        "  4.0300e+00]]\n"
                    ]
                }
            ],
            "source": [
                "# Reshaping yields a new matrix with one row with as many columns as the original observation (indicated by the -1)\n",
                "# This is often needed to make data compatible with particular methods\n",
                "print(np.reshape(so.values, (1, -1)))"
            ]
        },
        {
            "cell_type": "code",
            "execution_count": 22,
            "metadata": {},
            "outputs": [
                {
                    "name": "stdout",
                    "output_type": "stream",
                    "text": [
                        "[[2.7290e-02 0.0000e+00 7.0700e+00 0.0000e+00 4.6900e-01 7.1850e+00\n",
                        "  6.1100e+01 4.9671e+00 2.0000e+00 2.4200e+02 1.7800e+01 3.9283e+02\n",
                        "  4.0300e+00]\n",
                        " [3.2370e-02 0.0000e+00 2.1800e+00 0.0000e+00 4.5800e-01 6.9980e+00\n",
                        "  4.5800e+01 6.0622e+00 3.0000e+00 2.2200e+02 1.8700e+01 3.9463e+02\n",
                        "  2.9400e+00]]\n"
                    ]
                }
            ],
            "source": [
                "# For two observations:\n",
                "so_2 = df.loc[2:3, :]\n",
                "print(np.reshape(so_2.values, (2, -1)))"
            ]
        },
        {
            "cell_type": "markdown",
            "metadata": {},
            "source": [
                "This concludes our quick run-through of some basic functionality of the modules. We will use more and more specialised functions and objects as you progress through the course, but this has already set you up with the basics for playing around with data."
            ]
        }
    ],
    "metadata": {
        "kernelspec": {
            "display_name": "Python 3 [3.6]",
            "language": "python",
            "name": "python3"
        },
        "language_info": {
            "codemirror_mode": {
                "name": "ipython",
                "version": 3
            },
            "file_extension": ".py",
            "mimetype": "text\/x-python",
            "name": "python",
            "nbconvert_exporter": "python",
            "pygments_lexer": "ipython3",
            "version": "3.6.4"
        }
    },
    "nbformat": 4,
    "nbformat_minor": 2
}